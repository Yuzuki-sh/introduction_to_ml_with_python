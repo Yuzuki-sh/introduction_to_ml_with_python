{
 "cells": [
  {
   "cell_type": "code",
   "execution_count": 1,
   "id": "twenty-sunrise",
   "metadata": {},
   "outputs": [
    {
     "name": "stdout",
     "output_type": "stream",
     "text": [
      "Hello Jupyter from Docker\n"
     ]
    }
   ],
   "source": [
    "print(\"Hello Jupyter from Docker\")"
   ]
  },
  {
   "cell_type": "code",
   "execution_count": 3,
   "id": "organized-rescue",
   "metadata": {},
   "outputs": [],
   "source": [
    "import sys\n",
    "import pandas as pd\n",
    "import matplotlib as plt\n",
    "import numpy as np\n",
    "import scipy as sp\n",
    "import sklearn as sk"
   ]
  },
  {
   "cell_type": "code",
   "execution_count": 4,
   "metadata": {},
   "outputs": [
    {
     "output_type": "stream",
     "name": "stdout",
     "text": [
      "python: 3.8.6 | packaged by conda-forge | (default, Nov 27 2020, 19:31:52) \n[GCC 9.3.0]\npandas: 1.1.5\nmatplotlib: 3.3.3\nnumpyt: 1.19.5\nscipy: 1.5.3\nscikit-learn: 0.24.0\n"
     ]
    }
   ],
   "source": [
    "print(\"python: {}\".format(sys.version))\n",
    "print(\"pandas: {}\".format(pd.__version__))\n",
    "print(\"matplotlib: {}\".format(plt.__version__))\n",
    "print(\"numpyt: {}\".format(np.__version__))\n",
    "print(\"scipy: {}\".format(sp.__version__))\n",
    "print(\"scikit-learn: {}\".format(sk.__version__))\n"
   ]
  },
  {
   "cell_type": "code",
   "execution_count": null,
   "metadata": {},
   "outputs": [],
   "source": []
  }
 ],
 "metadata": {
  "kernelspec": {
   "display_name": "Python 3",
   "language": "python",
   "name": "python3"
  },
  "language_info": {
   "codemirror_mode": {
    "name": "ipython",
    "version": 3
   },
   "file_extension": ".py",
   "mimetype": "text/x-python",
   "name": "python",
   "nbconvert_exporter": "python",
   "pygments_lexer": "ipython3",
   "version": "3.9.0-final"
  }
 },
 "nbformat": 4,
 "nbformat_minor": 5
}